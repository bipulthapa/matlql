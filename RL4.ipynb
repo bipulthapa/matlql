{
  "nbformat": 4,
  "nbformat_minor": 0,
  "metadata": {
    "colab": {
      "private_outputs": true,
      "provenance": [],
      "machine_shape": "hm",
      "gpuType": "A100",
      "authorship_tag": "ABX9TyNLqzSkZKsnD0r4Fb1XRYit",
      "include_colab_link": true
    },
    "kernelspec": {
      "name": "python3",
      "display_name": "Python 3"
    },
    "language_info": {
      "name": "python"
    },
    "accelerator": "GPU",
    "gpuClass": "standard"
  },
  "cells": [
    {
      "cell_type": "markdown",
      "metadata": {
        "id": "view-in-github",
        "colab_type": "text"
      },
      "source": [
        "<a href=\"https://colab.research.google.com/github/bipulthapa/matlql/blob/Priyanka_MAL/RL4.ipynb\" target=\"_parent\"><img src=\"https://colab.research.google.com/assets/colab-badge.svg\" alt=\"Open In Colab\"/></a>"
      ]
    },
    {
      "cell_type": "code",
      "execution_count": null,
      "metadata": {
        "id": "_YuPzPUx2QFj"
      },
      "outputs": [],
      "source": [
        "# If any changes git push, delete matlql directory and re-run this command.\n",
        "#!rm -rf /content/matlql\n",
        "!git clone -b Priyanka_MAL https://github.com/bipulthapa/matlql.git"
      ]
    },
    {
      "cell_type": "code",
      "source": [
        "!sudo add-apt-repository ppa:deadsnakes/ppa\n",
        "!sudo apt-get update\n",
        "!sudo apt-get install python3.6\n",
        "\n",
        "!sudo apt-get update\n",
        "!sudo apt-get install python3-tk\n",
        "\n",
        "!pip install --upgrade pip\n",
        "!pip install tensorflow\n",
        "\n",
        "!pip install pandas\n",
        "\n",
        "!pip install matplotlib"
      ],
      "metadata": {
        "id": "re6ygl7X2q3e"
      },
      "execution_count": null,
      "outputs": []
    },
    {
      "cell_type": "code",
      "source": [
        "!cd /content/matlql/playground && pip install -U ."
      ],
      "metadata": {
        "id": "5W7SZRZy23Kg"
      },
      "execution_count": null,
      "outputs": []
    },
    {
      "cell_type": "code",
      "source": [
        "!cd /content/matlql/pettingzoo && pip install ./"
      ],
      "metadata": {
        "id": "L4oE24U02_f3"
      },
      "execution_count": null,
      "outputs": []
    },
    {
      "cell_type": "code",
      "source": [
        "%cd /content/matlql\n",
        "!python pursuitcode/pettingzoosislpursuitDQN.py"
      ],
      "metadata": {
        "id": "psfnx4kY3MQy"
      },
      "execution_count": null,
      "outputs": []
    }
  ]
}