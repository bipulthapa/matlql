{
  "nbformat": 4,
  "nbformat_minor": 0,
  "metadata": {
    "colab": {
      "provenance": [],
      "gpuType": "V100",
      "machine_shape": "hm",
      "private_outputs": true,
      "authorship_tag": "ABX9TyPpQ5UXCnHQp8ECqUpJK/7Y",
      "include_colab_link": true
    },
    "kernelspec": {
      "name": "python3",
      "display_name": "Python 3"
    },
    "language_info": {
      "name": "python"
    },
    "accelerator": "GPU",
    "gpuClass": "standard"
  },
  "cells": [
    {
      "cell_type": "markdown",
      "metadata": {
        "id": "view-in-github",
        "colab_type": "text"
      },
      "source": [
        "<a href=\"https://colab.research.google.com/github/bipulthapa/matlql/blob/Priyanka_MAL/Pursuitcode.ipynb\" target=\"_parent\"><img src=\"https://colab.research.google.com/assets/colab-badge.svg\" alt=\"Open In Colab\"/></a>"
      ]
    },
    {
      "cell_type": "code",
      "execution_count": null,
      "metadata": {
        "id": "-ys-ti7VTk4c"
      },
      "outputs": [],
      "source": [
        "# If any changes git push, delete matlql directory and re-run this command.\n",
        "#!rm -rf /content/matlql\n",
        "!git clone -b Priyanka_MAL https://github.com/bipulthapa/matlql.git"
      ]
    },
    {
      "cell_type": "code",
      "source": [
        "!sudo add-apt-repository ppa:deadsnakes/ppa\n",
        "!sudo apt-get update\n",
        "!sudo apt-get install python3.6\n",
        "\n",
        "!sudo apt-get update\n",
        "!sudo apt-get install python3-tk\n",
        "\n",
        "!pip install --upgrade pip\n",
        "!pip install tensorflow\n",
        "\n",
        "!pip install pandas\n",
        "\n",
        "!pip install matplotlib"
      ],
      "metadata": {
        "id": "fIVO55QJVJWE"
      },
      "execution_count": null,
      "outputs": []
    },
    {
      "cell_type": "code",
      "source": [
        "!cd /content/matlql/playground && pip install -U ."
      ],
      "metadata": {
        "id": "Ant7i8vlVQTH"
      },
      "execution_count": null,
      "outputs": []
    },
    {
      "cell_type": "code",
      "source": [
        "!cd /content/matlql/pettingzoo && pip install ./"
      ],
      "metadata": {
        "id": "7rWTtBl5VUOC"
      },
      "execution_count": null,
      "outputs": []
    },
    {
      "cell_type": "code",
      "source": [
        "%cd /content/matlql\n",
        "!python pursuitcode/pettingzoosislpursuitDQN.py"
      ],
      "metadata": {
        "id": "uECAdUHMWCQD"
      },
      "execution_count": null,
      "outputs": []
    },
    {
      "cell_type": "code",
      "source": [],
      "metadata": {
        "id": "8r0q52HOpzE-"
      },
      "execution_count": null,
      "outputs": []
    }
  ]
}